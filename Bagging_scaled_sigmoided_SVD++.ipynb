{
  "nbformat": 4,
  "nbformat_minor": 0,
  "metadata": {
    "accelerator": "GPU",
    "colab": {
      "name": "Bagging scaled sigmoided SVD++.ipynb",
      "provenance": [],
      "collapsed_sections": [],
      "toc_visible": true,
      "machine_shape": "hm"
    },
    "kernelspec": {
      "display_name": "Python 3",
      "name": "python3"
    },
    "language_info": {
      "name": "python"
    }
  },
  "cells": [
    {
      "cell_type": "code",
      "metadata": {
        "colab": {
          "base_uri": "https://localhost:8080/",
          "height": 438
        },
        "id": "WUUkCX3Zr902",
        "outputId": "2189572d-b941-4482-c707-d81529ee18a6"
      },
      "source": [
        "#@title Step 1: Imports\n",
        "\n",
        "import pandas as pd\n",
        "import numpy as np\n",
        "import math\n",
        "import torch\n",
        "%matplotlib inline\n",
        "import matplotlib.pyplot as plt  # For plotting graphs\n",
        "import os                        # For manipulating file paths\n",
        "import sklearn.datasets          # For regression data\n",
        "from torch.utils.tensorboard import SummaryWriter\n",
        "import json\n",
        "import copy\n",
        "from sklearn.model_selection import train_test_split\n",
        "\n",
        "!pip install torchensemble\n",
        "from torchensemble import BaggingRegressor, GradientBoostingRegressor, FusionRegressor, AdversarialTrainingRegressor, SnapshotEnsembleRegressor\n",
        "from torchensemble.utils.logging import set_logger"
      ],
      "execution_count": null,
      "outputs": [
        {
          "output_type": "stream",
          "text": [
            "Collecting torchensemble\n",
            "  Downloading torchensemble-0.1.5-py3-none-any.whl (39 kB)\n",
            "Collecting scikit-learn>=0.23.0\n",
            "  Downloading scikit_learn-0.24.2-cp37-cp37m-manylinux2010_x86_64.whl (22.3 MB)\n",
            "\u001b[K     |████████████████████████████████| 22.3 MB 1.5 MB/s \n",
            "\u001b[?25hRequirement already satisfied: torch>=1.4.0 in /usr/local/lib/python3.7/dist-packages (from torchensemble) (1.9.0+cu102)\n",
            "Requirement already satisfied: torchvision>=0.2.2 in /usr/local/lib/python3.7/dist-packages (from torchensemble) (0.10.0+cu102)\n",
            "Collecting threadpoolctl>=2.0.0\n",
            "  Downloading threadpoolctl-2.2.0-py3-none-any.whl (12 kB)\n",
            "Requirement already satisfied: scipy>=0.19.1 in /usr/local/lib/python3.7/dist-packages (from scikit-learn>=0.23.0->torchensemble) (1.4.1)\n",
            "Requirement already satisfied: numpy>=1.13.3 in /usr/local/lib/python3.7/dist-packages (from scikit-learn>=0.23.0->torchensemble) (1.19.5)\n",
            "Requirement already satisfied: joblib>=0.11 in /usr/local/lib/python3.7/dist-packages (from scikit-learn>=0.23.0->torchensemble) (1.0.1)\n",
            "Requirement already satisfied: typing-extensions in /usr/local/lib/python3.7/dist-packages (from torch>=1.4.0->torchensemble) (3.7.4.3)\n",
            "Requirement already satisfied: pillow>=5.3.0 in /usr/local/lib/python3.7/dist-packages (from torchvision>=0.2.2->torchensemble) (7.1.2)\n",
            "Installing collected packages: threadpoolctl, scikit-learn, torchensemble\n",
            "  Attempting uninstall: scikit-learn\n",
            "    Found existing installation: scikit-learn 0.22.2.post1\n",
            "    Uninstalling scikit-learn-0.22.2.post1:\n",
            "      Successfully uninstalled scikit-learn-0.22.2.post1\n",
            "Successfully installed scikit-learn-0.24.2 threadpoolctl-2.2.0 torchensemble-0.1.5\n"
          ],
          "name": "stdout"
        },
        {
          "output_type": "display_data",
          "data": {
            "application/vnd.colab-display-data+json": {
              "pip_warning": {
                "packages": [
                  "sklearn"
                ]
              }
            }
          },
          "metadata": {
            "tags": []
          }
        }
      ]
    },
    {
      "cell_type": "code",
      "metadata": {
        "colab": {
          "base_uri": "https://localhost:8080/"
        },
        "id": "dTM3eru9tnRu",
        "outputId": "d2554341-acc7-4410-c789-896f29f45481"
      },
      "source": [
        "#@title Step 2: Download data\n",
        "!pip install kaggle\n",
        "\n",
        "!mkdir ~/.kaggle\n",
        "\n",
        "kaggle_username = \"wmd0701\" #@param {type:\"string\"}\n",
        "kaggle_api_key = \"8f525bc765511d324f8509b938d7f39c\" #@param {type:\"string\"}\n",
        "\n",
        "assert len(kaggle_username) > 0 and len(kaggle_api_key) > 0\n",
        "\n",
        "api_token = {\"username\": kaggle_username,\"key\": kaggle_api_key}\n",
        "\n",
        "with open('kaggle.json', 'w') as file:\n",
        "    json.dump(api_token, file)\n",
        "\n",
        "!mv kaggle.json ~/.kaggle/kaggle.json\n",
        "\n",
        "!chmod 600 ~/.kaggle/kaggle.json\n",
        "!kaggle competitions download -c cil-collaborative-filtering-2021\n",
        "\n",
        "!unzip data_train.csv.zip \n",
        "!unzip sampleSubmission.csv.zip\n",
        "print()\n",
        "\n",
        "number_of_users, number_of_movies = (10000, 1000)\n",
        "\n",
        "data_pd = pd.read_csv('data_train.csv')\n",
        "print(data_pd.head(5))\n",
        "print('\\nShape', data_pd.shape)\n",
        "\n",
        "submission_pd = pd.read_csv('sampleSubmission.csv.zip')\n",
        "print(\"\\n\\n\",submission_pd.head(5))\n",
        "print(\"\\nShape:\", submission_pd.shape)\n",
        "print(\"\\n\\nSummary:\", np.unique(data_pd.Prediction.values, return_counts=True))\n",
        "\n",
        "sparsity = 1.0 - data_pd.shape[0] / (number_of_users * number_of_movies)\n",
        "print(\"\\nSparsity:\", sparsity)"
      ],
      "execution_count": null,
      "outputs": [
        {
          "output_type": "stream",
          "text": [
            "Requirement already satisfied: kaggle in /usr/local/lib/python3.7/dist-packages (1.5.12)\n",
            "Requirement already satisfied: python-dateutil in /usr/local/lib/python3.7/dist-packages (from kaggle) (2.8.1)\n",
            "Requirement already satisfied: urllib3 in /usr/local/lib/python3.7/dist-packages (from kaggle) (1.24.3)\n",
            "Requirement already satisfied: certifi in /usr/local/lib/python3.7/dist-packages (from kaggle) (2021.5.30)\n",
            "Requirement already satisfied: requests in /usr/local/lib/python3.7/dist-packages (from kaggle) (2.23.0)\n",
            "Requirement already satisfied: tqdm in /usr/local/lib/python3.7/dist-packages (from kaggle) (4.41.1)\n",
            "Requirement already satisfied: python-slugify in /usr/local/lib/python3.7/dist-packages (from kaggle) (5.0.2)\n",
            "Requirement already satisfied: six>=1.10 in /usr/local/lib/python3.7/dist-packages (from kaggle) (1.15.0)\n",
            "Requirement already satisfied: text-unidecode>=1.3 in /usr/local/lib/python3.7/dist-packages (from python-slugify->kaggle) (1.3)\n",
            "Requirement already satisfied: chardet<4,>=3.0.2 in /usr/local/lib/python3.7/dist-packages (from requests->kaggle) (3.0.4)\n",
            "Requirement already satisfied: idna<3,>=2.5 in /usr/local/lib/python3.7/dist-packages (from requests->kaggle) (2.10)\n",
            "Warning: Looks like you're using an outdated API Version, please consider updating (server 1.5.12 / client 1.5.4)\n",
            "Downloading sampleSubmission.csv.zip to /content\n",
            "  0% 0.00/2.92M [00:00<?, ?B/s]\n",
            "100% 2.92M/2.92M [00:00<00:00, 98.7MB/s]\n",
            "Downloading data_train.csv.zip to /content\n",
            "  0% 0.00/3.33M [00:00<?, ?B/s]\n",
            "100% 3.33M/3.33M [00:00<00:00, 110MB/s]\n",
            "Archive:  data_train.csv.zip\n",
            "  inflating: data_train.csv          \n",
            "Archive:  sampleSubmission.csv.zip\n",
            "  inflating: sampleSubmission.csv    \n",
            "\n",
            "       Id  Prediction\n",
            "0  r44_c1           4\n",
            "1  r61_c1           3\n",
            "2  r67_c1           4\n",
            "3  r72_c1           3\n",
            "4  r86_c1           5\n",
            "\n",
            "Shape (1176952, 2)\n",
            "\n",
            "\n",
            "         Id  Prediction\n",
            "0   r37_c1           3\n",
            "1   r73_c1           3\n",
            "2  r156_c1           3\n",
            "3  r160_c1           3\n",
            "4  r248_c1           3\n",
            "\n",
            "Shape: (1176952, 2)\n",
            "\n",
            "\n",
            "Summary: (array([1, 2, 3, 4, 5]), array([ 43508,  99180, 274327, 324700, 435237]))\n",
            "\n",
            "Sparsity: 0.8823048\n"
          ],
          "name": "stdout"
        }
      ]
    },
    {
      "cell_type": "code",
      "metadata": {
        "colab": {
          "base_uri": "https://localhost:8080/"
        },
        "id": "O0dFYjeLttC5",
        "outputId": "61fc2ad3-c5b8-47db-9c11-84b7fc291d07"
      },
      "source": [
        "#@title Step 3: Split to training set and test set\n",
        "\n",
        "train_size = 0.9\n",
        "\n",
        "train_pd, test_pd = train_test_split(data_pd, train_size=train_size, random_state=0)\n",
        "print(train_pd.shape)\n",
        "print(test_pd.shape)\n",
        "\n",
        "def extract_users_items_predictions(data_pd):\n",
        "    users, movies = \\\n",
        "        [np.squeeze(arr) for arr in np.split(data_pd.Id.str.extract('r(\\d+)_c(\\d+)').values.astype(int) - 1, 2, axis=-1)]\n",
        "    predictions = data_pd.Prediction.values\n",
        "    return users, movies, predictions\n",
        "\n",
        "train_users, train_movies, train_predictions = extract_users_items_predictions(train_pd)\n",
        "test_users, test_movies, test_predictions = extract_users_items_predictions(test_pd)\n",
        "all_users, all_movies, all_predictions = extract_users_items_predictions(data_pd)"
      ],
      "execution_count": null,
      "outputs": [
        {
          "output_type": "stream",
          "text": [
            "(1059256, 2)\n",
            "(117696, 2)\n"
          ],
          "name": "stdout"
        }
      ]
    },
    {
      "cell_type": "code",
      "metadata": {
        "colab": {
          "base_uri": "https://localhost:8080/"
        },
        "id": "bb93sFWouXqA",
        "outputId": "103cd6cc-99f3-4019-affc-76515468bc80"
      },
      "source": [
        "#@title Step 4: Use GPU if available\n",
        "\n",
        "device = torch.device('cuda' if torch.cuda.is_available() else 'cpu')\n",
        "print(f\"Device is {device}.\")"
      ],
      "execution_count": null,
      "outputs": [
        {
          "output_type": "stream",
          "text": [
            "Device is cuda.\n"
          ],
          "name": "stdout"
        }
      ]
    },
    {
      "cell_type": "code",
      "metadata": {
        "colab": {
          "base_uri": "https://localhost:8080/"
        },
        "id": "N2qM1cVov164",
        "outputId": "9d7e9fd7-fede-4a27-890d-3c45c68f2aff"
      },
      "source": [
        "#@title Step 5: Create data loaders\n",
        "batch_size = 64\n",
        "\n",
        "# datasets and data loaders for training/validation\n",
        "train_users_  = torch.tensor(train_users, device=device).int()\n",
        "train_movies_ = torch.tensor(train_movies, device=device).int()\n",
        "train_predictions_ = torch.tensor(train_predictions, device=device).float()\n",
        "test_users_  = torch.tensor(test_users, device=device).int()\n",
        "test_movies_ = torch.tensor(test_movies, device=device).int()\n",
        "test_predictions_ = torch.tensor(test_predictions, device=device).float()\n",
        "train_set = torch.utils.data.TensorDataset(train_users_, train_movies_, train_predictions_)\n",
        "test_set  = torch.utils.data.TensorDataset(test_users_ , test_movies_ , test_predictions_)\n",
        "train_loader = torch.utils.data.DataLoader(train_set, batch_size=batch_size, shuffle=True)\n",
        "test_loader  = torch.utils.data.DataLoader(test_set , batch_size=batch_size, shuffle=False)\n",
        "\n",
        "# datasets and data loaders for the whole task\n",
        "all_users_  = torch.tensor(all_users, device=device).int()\n",
        "all_movies_ = torch.tensor(all_movies, device=device).int()\n",
        "all_predictions_ = torch.tensor(all_predictions, device=device).float()\n",
        "all_set = torch.utils.data.TensorDataset(all_users_, all_movies_, all_predictions_)\n",
        "all_loader = torch.utils.data.DataLoader(all_set , batch_size=batch_size, shuffle=True)\n",
        "\n",
        "print(len(train_loader))\n",
        "print(len(test_loader))\n",
        "print(len(all_loader))"
      ],
      "execution_count": null,
      "outputs": [
        {
          "output_type": "stream",
          "text": [
            "16551\n",
            "1839\n",
            "18390\n"
          ],
          "name": "stdout"
        }
      ]
    },
    {
      "cell_type": "code",
      "metadata": {
        "id": "if894ABKullU"
      },
      "source": [
        "#@title Step 6: scaled sigmoided SVD++ class\n",
        "\n",
        "def weights_init(m):\n",
        "        if isinstance(m, torch.nn.Embedding):\n",
        "            torch.nn.init.xavier_uniform_(m.weight.data)\n",
        "\n",
        "class ssSVDpp(torch.nn.Module):\n",
        "  def __init__(self, number_of_users=number_of_users, number_of_movies=number_of_movies, rank=20, biased=True):\n",
        "    super().__init__()\n",
        "    self.biased = biased\n",
        "    self.rank = rank\n",
        "    self.sigmoid       = torch.nn.Sigmoid()\n",
        "    self.user_matrix   = torch.nn.Embedding(number_of_users , self.rank)\n",
        "    self.movie_matrix  = torch.nn.Embedding(number_of_movies, self.rank)\n",
        "    self.user_biases   = torch.nn.Embedding(number_of_users , 1)\n",
        "    self.movie_biases  = torch.nn.Embedding(number_of_movies, 1)\n",
        "    self.global_biases = torch.nn.Embedding(1, 1)\n",
        "\n",
        "    # self.five and self.half are constant and should not be trained\n",
        "    self.five = torch.tensor(5.)\n",
        "    self.half = torch.tensor(.5)\n",
        "    self.zero = torch.tensor(0).to(device)\n",
        "    self.register_buffer('const_five', self.five)\n",
        "    self.register_buffer('const_half', self.half)\n",
        "    self.register_buffer('const_zero', self.zero)\n",
        "    \n",
        "    # embedding initialization\n",
        "    self.apply(weights_init)\n",
        "\n",
        "  def forward(self, user, movie):\n",
        "    pred  = (self.user_matrix(user) * self.movie_matrix(movie)).sum(1, keepdim=True)\n",
        "    if self.biased:\n",
        "      pred += self.user_biases(user) + self.movie_biases(movie) + self.global_biases(self.zero)\n",
        "    \n",
        "    # scale output between 1 and 5 since it is movie rating\n",
        "    pred = self.sigmoid(pred.squeeze()) * self.five + self.half\n",
        "    return pred.squeeze()"
      ],
      "execution_count": null,
      "outputs": []
    },
    {
      "cell_type": "code",
      "metadata": {
        "colab": {
          "base_uri": "https://localhost:8080/"
        },
        "id": "AdcTrABn-t1j",
        "outputId": "7ad86ae3-501f-47f8-f9e8-f59b28c590bc"
      },
      "source": [
        "#@title Step 7: Ensemble model and optimizer\n",
        "\n",
        "# model_ensemble = FusionRegressor(\n",
        "# model_ensemble = GradientBoostingRegressor(\n",
        "# model_ensemble = SnapshotEnsembleRegressor(\n",
        "model_ensemble = BaggingRegressor(\n",
        "    estimator=ssSVDpp,\n",
        "    n_estimators=50,\n",
        "    cuda=torch.cuda.is_available(),\n",
        "    n_jobs=10\n",
        ")\n",
        "\n",
        "# optimizer\n",
        "model_ensemble.set_optimizer('Adam', lr=3e-4, weight_decay=5e-5)\n",
        "\n",
        "# logger\n",
        "# !rm -r logs\n",
        "logger = set_logger('bagging_ssSVDpp_50estimators_50epochs')"
      ],
      "execution_count": null,
      "outputs": [
        {
          "output_type": "stream",
          "text": [
            "Log will be saved in '/content/logs'.\n",
            "Create folder 'logs/'\n",
            "Start logging into file /content/logs/bagging_ssSVDpp_50estimators_50epochs-2021_07_30_15_49.log...\n"
          ],
          "name": "stdout"
        }
      ]
    },
    {
      "cell_type": "code",
      "metadata": {
        "id": "Qu5_ORc-APKS"
      },
      "source": [
        "#@title Step 8: Train and validate\n",
        "\n",
        "# whether to train with 90% data and validate with 10%\n",
        "# or train with 100% data\n",
        "validate = True\n",
        "\n",
        "# whether save model\n",
        "save_model = False\n",
        "\n",
        "# epochs\n",
        "n_epochs = 30\n",
        "\n",
        "if validate:\n",
        "    model_ensemble.fit(\n",
        "        train_loader,\n",
        "        epochs=n_epochs,\n",
        "        test_loader=test_loader,\n",
        "        log_interval=5000,\n",
        "        save_model=save_model\n",
        "    )\n",
        "else:\n",
        "    model_ensemble.fit(\n",
        "        all_loader,\n",
        "        epochs=n_epochs,\n",
        "        log_interval=5000,\n",
        "        save_model=save_model\n",
        "    )"
      ],
      "execution_count": null,
      "outputs": []
    },
    {
      "cell_type": "code",
      "metadata": {
        "colab": {
          "base_uri": "https://localhost:8080/"
        },
        "id": "g5nJlU5MxCGy",
        "outputId": "18623c49-90e5-433e-c67f-91a086f26cec"
      },
      "source": [
        "#@title Step 9: Generate predictions\n",
        "\n",
        "submission_users, submission_movies, submission_predictions = extract_users_items_predictions(submission_pd)\n",
        "print(submission_users)\n",
        "print(submission_movies)\n",
        "print(submission_predictions)\n",
        "\n",
        "submission_users_  = torch.tensor(submission_users).int()\n",
        "submission_movies_ = torch.tensor(submission_movies).int()\n",
        "submission_set     = torch.utils.data.TensorDataset(submission_users_ , submission_movies_)\n",
        "submission_loader  = torch.utils.data.DataLoader(submission_set, shuffle=False, batch_size=len(submission_movies))\n",
        "\n",
        "for _, (user, movie) in enumerate(submission_loader):\n",
        "    output = model_ensemble.predict(user, movie)"
      ],
      "execution_count": null,
      "outputs": [
        {
          "output_type": "stream",
          "text": [
            "[  36   72  155 ... 9977 9981 9995]\n",
            "[  0   0   0 ... 999 999 999]\n",
            "[3 3 3 ... 3 3 3]\n"
          ],
          "name": "stdout"
        }
      ]
    },
    {
      "cell_type": "code",
      "metadata": {
        "colab": {
          "base_uri": "https://localhost:8080/"
        },
        "id": "So9P3m-c6M5r",
        "outputId": "d9d14891-9e46-4f33-f284-623c967f6d91"
      },
      "source": [
        "#@title Step 10: Clamp output in range 1.0 ~ 5.0\n",
        "\n",
        "print(output.min())\n",
        "print(output.max())\n",
        "print()\n",
        "\n",
        "output = torch.clamp(output, min=1.0, max=5.0)\n",
        "print(output.min())\n",
        "print(output.max())\n",
        "print()"
      ],
      "execution_count": null,
      "outputs": [
        {
          "output_type": "stream",
          "text": [
            "tensor(0.9464)\n",
            "tensor(5.2638)\n",
            "\n",
            "tensor(1.)\n",
            "tensor(5.)\n",
            "\n"
          ],
          "name": "stdout"
        }
      ]
    },
    {
      "cell_type": "code",
      "metadata": {
        "colab": {
          "base_uri": "https://localhost:8080/",
          "height": 553
        },
        "id": "FoWbmxCGzxLf",
        "outputId": "1c4175a1-4533-456a-d1ba-71ddd0e5eedf"
      },
      "source": [
        "#@title Step 11: Generate submission file\n",
        "\n",
        "submission_users = (submission_users+1).astype(str)\n",
        "submission_users = np.char.add('r', submission_users)\n",
        "\n",
        "submission_movies = (submission_movies+1).astype(str)\n",
        "submission_movies = np.char.add('_c', submission_movies)\n",
        "\n",
        "submission_IDs = np.char.add(submission_users, submission_movies)\n",
        "\n",
        "my_submission = pd.DataFrame({'ID': submission_IDs, 'Prediction': output})\n",
        "\n",
        "print(my_submission.head(10))\n",
        "\n",
        "my_submission.to_csv(\"my_submission.csv\", index=False)\n",
        "\n",
        "# re-check\n",
        "wtf = pd.read_csv('my_submission.csv')\n",
        "wtf.head(10)"
      ],
      "execution_count": null,
      "outputs": [
        {
          "output_type": "stream",
          "text": [
            "        ID  Prediction\n",
            "0   r37_c1    3.257298\n",
            "1   r73_c1    3.116233\n",
            "2  r156_c1    3.737209\n",
            "3  r160_c1    3.335373\n",
            "4  r248_c1    3.417657\n",
            "5  r256_c1    3.406450\n",
            "6  r284_c1    3.230401\n",
            "7  r400_c1    3.238351\n",
            "8  r416_c1    3.548342\n",
            "9  r456_c1    3.286206\n"
          ],
          "name": "stdout"
        },
        {
          "output_type": "execute_result",
          "data": {
            "text/html": [
              "<div>\n",
              "<style scoped>\n",
              "    .dataframe tbody tr th:only-of-type {\n",
              "        vertical-align: middle;\n",
              "    }\n",
              "\n",
              "    .dataframe tbody tr th {\n",
              "        vertical-align: top;\n",
              "    }\n",
              "\n",
              "    .dataframe thead th {\n",
              "        text-align: right;\n",
              "    }\n",
              "</style>\n",
              "<table border=\"1\" class=\"dataframe\">\n",
              "  <thead>\n",
              "    <tr style=\"text-align: right;\">\n",
              "      <th></th>\n",
              "      <th>ID</th>\n",
              "      <th>Prediction</th>\n",
              "    </tr>\n",
              "  </thead>\n",
              "  <tbody>\n",
              "    <tr>\n",
              "      <th>0</th>\n",
              "      <td>r37_c1</td>\n",
              "      <td>3.257298</td>\n",
              "    </tr>\n",
              "    <tr>\n",
              "      <th>1</th>\n",
              "      <td>r73_c1</td>\n",
              "      <td>3.116233</td>\n",
              "    </tr>\n",
              "    <tr>\n",
              "      <th>2</th>\n",
              "      <td>r156_c1</td>\n",
              "      <td>3.737209</td>\n",
              "    </tr>\n",
              "    <tr>\n",
              "      <th>3</th>\n",
              "      <td>r160_c1</td>\n",
              "      <td>3.335373</td>\n",
              "    </tr>\n",
              "    <tr>\n",
              "      <th>4</th>\n",
              "      <td>r248_c1</td>\n",
              "      <td>3.417657</td>\n",
              "    </tr>\n",
              "    <tr>\n",
              "      <th>5</th>\n",
              "      <td>r256_c1</td>\n",
              "      <td>3.406450</td>\n",
              "    </tr>\n",
              "    <tr>\n",
              "      <th>6</th>\n",
              "      <td>r284_c1</td>\n",
              "      <td>3.230401</td>\n",
              "    </tr>\n",
              "    <tr>\n",
              "      <th>7</th>\n",
              "      <td>r400_c1</td>\n",
              "      <td>3.238351</td>\n",
              "    </tr>\n",
              "    <tr>\n",
              "      <th>8</th>\n",
              "      <td>r416_c1</td>\n",
              "      <td>3.548342</td>\n",
              "    </tr>\n",
              "    <tr>\n",
              "      <th>9</th>\n",
              "      <td>r456_c1</td>\n",
              "      <td>3.286206</td>\n",
              "    </tr>\n",
              "  </tbody>\n",
              "</table>\n",
              "</div>"
            ],
            "text/plain": [
              "        ID  Prediction\n",
              "0   r37_c1    3.257298\n",
              "1   r73_c1    3.116233\n",
              "2  r156_c1    3.737209\n",
              "3  r160_c1    3.335373\n",
              "4  r248_c1    3.417657\n",
              "5  r256_c1    3.406450\n",
              "6  r284_c1    3.230401\n",
              "7  r400_c1    3.238351\n",
              "8  r416_c1    3.548342\n",
              "9  r456_c1    3.286206"
            ]
          },
          "metadata": {
            "tags": []
          },
          "execution_count": 13
        }
      ]
    }
  ]
}