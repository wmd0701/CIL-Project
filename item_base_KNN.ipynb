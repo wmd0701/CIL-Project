{
  "nbformat": 4,
  "nbformat_minor": 0,
  "metadata": {
    "colab": {
      "name": "item-base KNN.ipynb",
      "provenance": [],
      "collapsed_sections": [],
      "toc_visible": true
    },
    "kernelspec": {
      "name": "python3",
      "display_name": "Python 3"
    },
    "language_info": {
      "name": "python"
    }
  },
  "cells": [
    {
      "cell_type": "code",
      "metadata": {
        "id": "ehZlgJZpFRjP"
      },
      "source": [
        "#@title Step 1: Imports\n",
        "\n",
        "import pandas as pd\n",
        "import numpy as np\n",
        "import math\n",
        "import torch\n",
        "%matplotlib inline\n",
        "import matplotlib.pyplot as plt \n",
        "import os                        \n",
        "import sklearn.datasets    \n",
        "import json\n",
        "from sklearn.model_selection import train_test_split\n",
        "from scipy.sparse import csr_matrix\n",
        "from sklearn.neighbors import NearestNeighbors\n",
        "from scipy.special import softmax\n",
        "from sklearn.metrics import mean_squared_error"
      ],
      "execution_count": null,
      "outputs": []
    },
    {
      "cell_type": "code",
      "metadata": {
        "colab": {
          "base_uri": "https://localhost:8080/"
        },
        "id": "WSx9UCigFq-8",
        "outputId": "6790341b-c804-4eaa-e9af-62a2322d08af"
      },
      "source": [
        "#@title Step 2: Download data\n",
        "!pip install kaggle\n",
        "\n",
        "!mkdir ~/.kaggle\n",
        "\n",
        "kaggle_username = \"wmd0701\" #@param {type:\"string\"}\n",
        "kaggle_api_key = \"8f525bc765511d324f8509b938d7f39c\" #@param {type:\"string\"}\n",
        "\n",
        "assert len(kaggle_username) > 0 and len(kaggle_api_key) > 0\n",
        "\n",
        "api_token = {\"username\": kaggle_username,\"key\": kaggle_api_key}\n",
        "\n",
        "with open('kaggle.json', 'w') as file:\n",
        "    json.dump(api_token, file)\n",
        "\n",
        "!mv kaggle.json ~/.kaggle/kaggle.json\n",
        "\n",
        "!chmod 600 ~/.kaggle/kaggle.json\n",
        "!kaggle competitions download -c cil-collaborative-filtering-2021\n",
        "\n",
        "!unzip data_train.csv.zip \n",
        "!unzip sampleSubmission.csv.zip\n",
        "print()\n",
        "\n",
        "number_of_users, number_of_movies = (10000, 1000)\n",
        "\n",
        "data_pd = pd.read_csv('data_train.csv')\n",
        "print(data_pd.head(5))\n",
        "print('\\nShape', data_pd.shape)\n",
        "\n",
        "submission_pd = pd.read_csv('sampleSubmission.csv.zip')\n",
        "print(\"\\n\\n\",submission_pd.head(5))\n",
        "print(\"\\nShape:\", submission_pd.shape)\n",
        "print(\"\\n\\nSummary:\", np.unique(data_pd.Prediction.values, return_counts=True))\n",
        "\n",
        "sparsity = 1.0 - data_pd.shape[0] / (number_of_users * number_of_movies)\n",
        "print(\"\\nSparsity:\", sparsity)"
      ],
      "execution_count": null,
      "outputs": [
        {
          "output_type": "stream",
          "text": [
            "Requirement already satisfied: kaggle in /usr/local/lib/python3.7/dist-packages (1.5.12)\n",
            "Requirement already satisfied: tqdm in /usr/local/lib/python3.7/dist-packages (from kaggle) (4.41.1)\n",
            "Requirement already satisfied: six>=1.10 in /usr/local/lib/python3.7/dist-packages (from kaggle) (1.15.0)\n",
            "Requirement already satisfied: python-dateutil in /usr/local/lib/python3.7/dist-packages (from kaggle) (2.8.1)\n",
            "Requirement already satisfied: python-slugify in /usr/local/lib/python3.7/dist-packages (from kaggle) (5.0.2)\n",
            "Requirement already satisfied: certifi in /usr/local/lib/python3.7/dist-packages (from kaggle) (2021.5.30)\n",
            "Requirement already satisfied: urllib3 in /usr/local/lib/python3.7/dist-packages (from kaggle) (1.24.3)\n",
            "Requirement already satisfied: requests in /usr/local/lib/python3.7/dist-packages (from kaggle) (2.23.0)\n",
            "Requirement already satisfied: text-unidecode>=1.3 in /usr/local/lib/python3.7/dist-packages (from python-slugify->kaggle) (1.3)\n",
            "Requirement already satisfied: chardet<4,>=3.0.2 in /usr/local/lib/python3.7/dist-packages (from requests->kaggle) (3.0.4)\n",
            "Requirement already satisfied: idna<3,>=2.5 in /usr/local/lib/python3.7/dist-packages (from requests->kaggle) (2.10)\n",
            "Warning: Looks like you're using an outdated API Version, please consider updating (server 1.5.12 / client 1.5.4)\n",
            "Downloading data_train.csv.zip to /content\n",
            "  0% 0.00/3.33M [00:00<?, ?B/s]\n",
            "100% 3.33M/3.33M [00:00<00:00, 112MB/s]\n",
            "Downloading sampleSubmission.csv.zip to /content\n",
            "  0% 0.00/2.92M [00:00<?, ?B/s]\n",
            "100% 2.92M/2.92M [00:00<00:00, 96.4MB/s]\n",
            "Archive:  data_train.csv.zip\n",
            "  inflating: data_train.csv          \n",
            "Archive:  sampleSubmission.csv.zip\n",
            "  inflating: sampleSubmission.csv    \n",
            "\n",
            "       Id  Prediction\n",
            "0  r44_c1           4\n",
            "1  r61_c1           3\n",
            "2  r67_c1           4\n",
            "3  r72_c1           3\n",
            "4  r86_c1           5\n",
            "\n",
            "Shape (1176952, 2)\n",
            "\n",
            "\n",
            "         Id  Prediction\n",
            "0   r37_c1           3\n",
            "1   r73_c1           3\n",
            "2  r156_c1           3\n",
            "3  r160_c1           3\n",
            "4  r248_c1           3\n",
            "\n",
            "Shape: (1176952, 2)\n",
            "\n",
            "\n",
            "Summary: (array([1, 2, 3, 4, 5]), array([ 43508,  99180, 274327, 324700, 435237]))\n",
            "\n",
            "Sparsity: 0.8823048\n"
          ],
          "name": "stdout"
        }
      ]
    },
    {
      "cell_type": "code",
      "metadata": {
        "colab": {
          "base_uri": "https://localhost:8080/"
        },
        "id": "FVd1Q8gbGEQG",
        "outputId": "25444ccf-f1c2-4e18-8f33-26e717acff66"
      },
      "source": [
        "#@title Step 3: Split data\n",
        "\n",
        "train_size = 0.9\n",
        "\n",
        "train_pd, test_pd = train_test_split(data_pd, train_size=train_size, random_state=0)\n",
        "print(train_pd.shape)\n",
        "print(test_pd.shape)\n",
        "\n",
        "def extract_users_items_predictions(data_pd):\n",
        "    users, movies = \\\n",
        "        [np.squeeze(arr) for arr in np.split(data_pd.Id.str.extract('r(\\d+)_c(\\d+)').values.astype(int) - 1, 2, axis=-1)]\n",
        "    predictions = data_pd.Prediction.values\n",
        "    return users, movies, predictions\n",
        "\n",
        "train_users, train_movies, train_predictions = extract_users_items_predictions(train_pd)\n",
        "test_users, test_movies, test_predictions = extract_users_items_predictions(test_pd)\n",
        "all_users, all_movies, all_predictions = extract_users_items_predictions(data_pd)"
      ],
      "execution_count": null,
      "outputs": [
        {
          "output_type": "stream",
          "text": [
            "(1059256, 2)\n",
            "(117696, 2)\n"
          ],
          "name": "stdout"
        }
      ]
    },
    {
      "cell_type": "code",
      "metadata": {
        "id": "SkjyR6408OG6"
      },
      "source": [
        "#@title Step 4: Generate user-movie rating matrix\n",
        "\n",
        "data = np.full((number_of_users, number_of_movies), 0) \n",
        "\n",
        "# whether to use 10% data for validation\n",
        "validate = True\n",
        "\n",
        "if validate:\n",
        "    iters = zip(train_users, train_movies, train_predictions)\n",
        "else:\n",
        "    iters = zip(all_users, all_movies, all_predictions)\n",
        "\n",
        "for user, movie, pred in iters:\n",
        "    data[user][movie] = pred"
      ],
      "execution_count": null,
      "outputs": []
    },
    {
      "cell_type": "code",
      "metadata": {
        "colab": {
          "base_uri": "https://localhost:8080/"
        },
        "id": "HgojR0hi8KQb",
        "outputId": "40b96f9d-5a26-4546-eaa9-62378da3007b"
      },
      "source": [
        "#@title Step 5: CSR matrix and fit KNN model\n",
        "\n",
        "# convert full matrix into CSR format which costs less memory\n",
        "t_data = np.transpose(data)\n",
        "csr = csr_matrix(t_data)\n",
        "\n",
        "# fit knn model with cosine distance metric\n",
        "model = NearestNeighbors(metric = 'cosine', algorithm = 'brute')\n",
        "model.fit(csr)"
      ],
      "execution_count": null,
      "outputs": [
        {
          "output_type": "execute_result",
          "data": {
            "text/plain": [
              "NearestNeighbors(algorithm='brute', leaf_size=30, metric='cosine',\n",
              "                 metric_params=None, n_jobs=None, n_neighbors=5, p=2,\n",
              "                 radius=1.0)"
            ]
          },
          "metadata": {
            "tags": []
          },
          "execution_count": 13
        }
      ]
    },
    {
      "cell_type": "code",
      "metadata": {
        "colab": {
          "base_uri": "https://localhost:8080/"
        },
        "id": "9i76QH53-CPD",
        "outputId": "5e0e28a3-5c57-4876-b6b8-726c3bf9f6b7"
      },
      "source": [
        "#@title Step 6: Validation\n",
        "\n",
        "# consider 5 nearest neighbors among 500 neighbors\n",
        "n_neighbors = 500\n",
        "neighbor_count_limit = 5\n",
        "\n",
        "my_preds = []\n",
        "for i in range(len(test_movies)):\n",
        "    user  = test_users[i]\n",
        "    movie = test_movies[i]\n",
        "    \n",
        "    distances, indices = model.kneighbors(t_data[[movie]], n_neighbors=n_neighbors)\n",
        "\n",
        "    neighbor_count = 0\n",
        "    neighbor_simi  = []\n",
        "    neighbor_pred  = []\n",
        "\n",
        "    # the first element is always the movie itself so we skip it\n",
        "    for j in range(1, n_neighbors):\n",
        "        neighbor = indices[0][j]\n",
        "\n",
        "        # consider only rated neighbors\n",
        "        if t_data[neighbor][user] != 0:\n",
        "            neighbor_count += 1\n",
        "\n",
        "            # cosine similarity = 1 - cosine distance\n",
        "            neighbor_simi.append(1 - distances[0][j])\n",
        "            neighbor_pred.append(t_data[neighbor][user])\n",
        "\n",
        "            if neighbor_count >= neighbor_count_limit:\n",
        "                break\n",
        "    \n",
        "    # when n_neighbors too low, it may happen that there are no rated neighors\n",
        "    if neighbor_count == 0:\n",
        "        print(\"WTF! No neighbor have rating different from 0!\")\n",
        "        break\n",
        "\n",
        "    neighbor_weight = softmax(neighbor_simi)\n",
        "    my_pred = np.dot(neighbor_weight, neighbor_pred)\n",
        "    my_preds.append(my_pred)\n",
        "\n",
        "    if i%1000 == 0:\n",
        "        print(\"current iteration:\", i)"
      ],
      "execution_count": null,
      "outputs": [
        {
          "output_type": "stream",
          "text": [
            "current iteration: 0\n",
            "current iteration: 1000\n",
            "current iteration: 2000\n",
            "current iteration: 3000\n",
            "current iteration: 4000\n",
            "current iteration: 5000\n",
            "current iteration: 6000\n",
            "current iteration: 7000\n",
            "current iteration: 8000\n",
            "current iteration: 9000\n",
            "current iteration: 10000\n",
            "current iteration: 11000\n",
            "current iteration: 12000\n",
            "current iteration: 13000\n",
            "current iteration: 14000\n",
            "current iteration: 15000\n",
            "current iteration: 16000\n",
            "current iteration: 17000\n",
            "current iteration: 18000\n",
            "current iteration: 19000\n",
            "current iteration: 20000\n",
            "current iteration: 21000\n",
            "current iteration: 22000\n",
            "current iteration: 23000\n",
            "current iteration: 24000\n",
            "current iteration: 25000\n",
            "current iteration: 26000\n",
            "current iteration: 27000\n",
            "current iteration: 28000\n",
            "current iteration: 29000\n",
            "current iteration: 30000\n",
            "current iteration: 31000\n",
            "current iteration: 32000\n",
            "current iteration: 33000\n",
            "current iteration: 34000\n",
            "current iteration: 35000\n",
            "current iteration: 36000\n",
            "current iteration: 37000\n",
            "current iteration: 38000\n",
            "current iteration: 39000\n",
            "current iteration: 40000\n",
            "current iteration: 41000\n",
            "current iteration: 42000\n",
            "current iteration: 43000\n",
            "current iteration: 44000\n",
            "current iteration: 45000\n",
            "current iteration: 46000\n",
            "current iteration: 47000\n",
            "current iteration: 48000\n",
            "current iteration: 49000\n",
            "current iteration: 50000\n",
            "current iteration: 51000\n",
            "current iteration: 52000\n",
            "current iteration: 53000\n",
            "current iteration: 54000\n",
            "current iteration: 55000\n",
            "current iteration: 56000\n",
            "current iteration: 57000\n",
            "current iteration: 58000\n",
            "current iteration: 59000\n",
            "current iteration: 60000\n",
            "current iteration: 61000\n",
            "current iteration: 62000\n",
            "current iteration: 63000\n",
            "current iteration: 64000\n",
            "current iteration: 65000\n",
            "current iteration: 66000\n",
            "current iteration: 67000\n",
            "current iteration: 68000\n",
            "current iteration: 69000\n",
            "current iteration: 70000\n",
            "current iteration: 71000\n",
            "current iteration: 72000\n",
            "current iteration: 73000\n",
            "current iteration: 74000\n",
            "current iteration: 75000\n",
            "current iteration: 76000\n",
            "current iteration: 77000\n",
            "current iteration: 78000\n",
            "current iteration: 79000\n",
            "current iteration: 80000\n",
            "current iteration: 81000\n",
            "current iteration: 82000\n",
            "current iteration: 83000\n",
            "current iteration: 84000\n",
            "current iteration: 85000\n",
            "current iteration: 86000\n",
            "current iteration: 87000\n",
            "current iteration: 88000\n",
            "current iteration: 89000\n",
            "current iteration: 90000\n",
            "current iteration: 91000\n",
            "current iteration: 92000\n",
            "current iteration: 93000\n",
            "current iteration: 94000\n",
            "current iteration: 95000\n",
            "current iteration: 96000\n",
            "current iteration: 97000\n",
            "current iteration: 98000\n",
            "current iteration: 99000\n",
            "current iteration: 100000\n",
            "current iteration: 101000\n",
            "current iteration: 102000\n",
            "current iteration: 103000\n",
            "current iteration: 104000\n",
            "current iteration: 105000\n",
            "current iteration: 106000\n",
            "current iteration: 107000\n",
            "current iteration: 108000\n",
            "current iteration: 109000\n",
            "current iteration: 110000\n",
            "current iteration: 111000\n",
            "current iteration: 112000\n",
            "current iteration: 113000\n",
            "current iteration: 114000\n",
            "current iteration: 115000\n",
            "current iteration: 116000\n",
            "current iteration: 117000\n"
          ],
          "name": "stdout"
        }
      ]
    },
    {
      "cell_type": "code",
      "metadata": {
        "colab": {
          "base_uri": "https://localhost:8080/"
        },
        "id": "pzkE7dba_EZC",
        "outputId": "05ac453a-f36f-44eb-9030-39a038abbf3e"
      },
      "source": [
        "#@title Step 7: Calculate MSE\n",
        "\n",
        "mse = mean_squared_error(my_preds, test_predictions)\n",
        "mse"
      ],
      "execution_count": null,
      "outputs": [
        {
          "output_type": "execute_result",
          "data": {
            "text/plain": [
              "1.5173301656416667"
            ]
          },
          "metadata": {
            "tags": []
          },
          "execution_count": 15
        }
      ]
    },
    {
      "cell_type": "code",
      "metadata": {
        "colab": {
          "base_uri": "https://localhost:8080/"
        },
        "id": "rtO84QCK_OU3",
        "outputId": "da2a490f-4636-428a-a42e-51e62053d618"
      },
      "source": [
        "#@title (optional) Self-defined MSE calculation\n",
        "mse = np.sum(np.square(np.array(my_preds) - test_predictions))/len(test_predictions)\n",
        "mse"
      ],
      "execution_count": null,
      "outputs": [
        {
          "output_type": "execute_result",
          "data": {
            "text/plain": [
              "1.5173301656416667"
            ]
          },
          "metadata": {
            "tags": []
          },
          "execution_count": 16
        }
      ]
    }
  ]
}