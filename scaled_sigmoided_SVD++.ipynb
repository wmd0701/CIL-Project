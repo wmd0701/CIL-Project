{
  "nbformat": 4,
  "nbformat_minor": 0,
  "metadata": {
    "colab": {
      "name": "scaled sigmoided SVD++.ipynb",
      "provenance": [],
      "collapsed_sections": [],
      "toc_visible": true
    },
    "kernelspec": {
      "name": "python3",
      "display_name": "Python 3"
    },
    "language_info": {
      "name": "python"
    },
    "accelerator": "GPU"
  },
  "cells": [
    {
      "cell_type": "code",
      "metadata": {
        "id": "ehZlgJZpFRjP"
      },
      "source": [
        "#@title Step 1: Imports\n",
        "\n",
        "import pandas as pd\n",
        "import numpy as np\n",
        "import math\n",
        "import torch\n",
        "%matplotlib inline\n",
        "import matplotlib.pyplot as plt  \n",
        "import os                        \n",
        "import sklearn.datasets          \n",
        "from torch.utils.tensorboard import SummaryWriter\n",
        "import json\n",
        "import copy\n",
        "from sklearn.model_selection import train_test_split"
      ],
      "execution_count": null,
      "outputs": []
    },
    {
      "cell_type": "code",
      "metadata": {
        "colab": {
          "base_uri": "https://localhost:8080/"
        },
        "id": "WSx9UCigFq-8",
        "outputId": "341a5f15-f13e-43af-cdb8-2600bb79736f"
      },
      "source": [
        "#@title Step 2: Download data\n",
        "!pip install kaggle\n",
        "\n",
        "!mkdir ~/.kaggle\n",
        "\n",
        "kaggle_username = \"wmd0701\" #@param {type:\"string\"}\n",
        "kaggle_api_key = \"8f525bc765511d324f8509b938d7f39c\" #@param {type:\"string\"}\n",
        "\n",
        "assert len(kaggle_username) > 0 and len(kaggle_api_key) > 0\n",
        "\n",
        "api_token = {\"username\": kaggle_username,\"key\": kaggle_api_key}\n",
        "\n",
        "with open('kaggle.json', 'w') as file:\n",
        "    json.dump(api_token, file)\n",
        "\n",
        "!mv kaggle.json ~/.kaggle/kaggle.json\n",
        "\n",
        "!chmod 600 ~/.kaggle/kaggle.json\n",
        "!kaggle competitions download -c cil-collaborative-filtering-2021\n",
        "\n",
        "!unzip data_train.csv.zip \n",
        "!unzip sampleSubmission.csv.zip\n",
        "print()\n",
        "\n",
        "number_of_users, number_of_movies = (10000, 1000)\n",
        "\n",
        "data_pd = pd.read_csv('data_train.csv')\n",
        "print(data_pd.head(5))\n",
        "print('\\nShape', data_pd.shape)\n",
        "\n",
        "submission_pd = pd.read_csv('sampleSubmission.csv.zip')\n",
        "print(\"\\n\\n\",submission_pd.head(5))\n",
        "print(\"\\nShape:\", submission_pd.shape)\n",
        "print(\"\\n\\nSummary:\", np.unique(data_pd.Prediction.values, return_counts=True))\n",
        "\n",
        "sparsity = 1.0 - data_pd.shape[0] / (number_of_users * number_of_movies)\n",
        "print(\"\\nSparsity:\", sparsity)"
      ],
      "execution_count": null,
      "outputs": [
        {
          "output_type": "stream",
          "text": [
            "Requirement already satisfied: kaggle in /usr/local/lib/python3.7/dist-packages (1.5.12)\n",
            "Requirement already satisfied: tqdm in /usr/local/lib/python3.7/dist-packages (from kaggle) (4.41.1)\n",
            "Requirement already satisfied: python-dateutil in /usr/local/lib/python3.7/dist-packages (from kaggle) (2.8.1)\n",
            "Requirement already satisfied: requests in /usr/local/lib/python3.7/dist-packages (from kaggle) (2.23.0)\n",
            "Requirement already satisfied: python-slugify in /usr/local/lib/python3.7/dist-packages (from kaggle) (5.0.2)\n",
            "Requirement already satisfied: urllib3 in /usr/local/lib/python3.7/dist-packages (from kaggle) (1.24.3)\n",
            "Requirement already satisfied: six>=1.10 in /usr/local/lib/python3.7/dist-packages (from kaggle) (1.15.0)\n",
            "Requirement already satisfied: certifi in /usr/local/lib/python3.7/dist-packages (from kaggle) (2021.5.30)\n",
            "Requirement already satisfied: text-unidecode>=1.3 in /usr/local/lib/python3.7/dist-packages (from python-slugify->kaggle) (1.3)\n",
            "Requirement already satisfied: idna<3,>=2.5 in /usr/local/lib/python3.7/dist-packages (from requests->kaggle) (2.10)\n",
            "Requirement already satisfied: chardet<4,>=3.0.2 in /usr/local/lib/python3.7/dist-packages (from requests->kaggle) (3.0.4)\n",
            "Warning: Looks like you're using an outdated API Version, please consider updating (server 1.5.12 / client 1.5.4)\n",
            "Downloading sampleSubmission.csv.zip to /content\n",
            "  0% 0.00/2.92M [00:00<?, ?B/s]\n",
            "100% 2.92M/2.92M [00:00<00:00, 98.7MB/s]\n",
            "Downloading data_train.csv.zip to /content\n",
            "  0% 0.00/3.33M [00:00<?, ?B/s]\n",
            "100% 3.33M/3.33M [00:00<00:00, 107MB/s]\n",
            "Archive:  data_train.csv.zip\n",
            "  inflating: data_train.csv          \n",
            "Archive:  sampleSubmission.csv.zip\n",
            "  inflating: sampleSubmission.csv    \n",
            "\n",
            "       Id  Prediction\n",
            "0  r44_c1           4\n",
            "1  r61_c1           3\n",
            "2  r67_c1           4\n",
            "3  r72_c1           3\n",
            "4  r86_c1           5\n",
            "\n",
            "Shape (1176952, 2)\n",
            "\n",
            "\n",
            "         Id  Prediction\n",
            "0   r37_c1           3\n",
            "1   r73_c1           3\n",
            "2  r156_c1           3\n",
            "3  r160_c1           3\n",
            "4  r248_c1           3\n",
            "\n",
            "Shape: (1176952, 2)\n",
            "\n",
            "\n",
            "Summary: (array([1, 2, 3, 4, 5]), array([ 43508,  99180, 274327, 324700, 435237]))\n",
            "\n",
            "Sparsity: 0.8823048\n"
          ],
          "name": "stdout"
        }
      ]
    },
    {
      "cell_type": "code",
      "metadata": {
        "colab": {
          "base_uri": "https://localhost:8080/"
        },
        "id": "FVd1Q8gbGEQG",
        "outputId": "0540be1e-40dd-48e6-bb19-16aa39d9c027"
      },
      "source": [
        "#@title Step 3: Split data\n",
        "\n",
        "train_size = 0.9\n",
        "\n",
        "train_pd, test_pd = train_test_split(data_pd, train_size=train_size, random_state=0)\n",
        "print(train_pd.shape)\n",
        "print(test_pd.shape)\n",
        "\n",
        "def extract_users_items_predictions(data_pd):\n",
        "    users, movies = \\\n",
        "        [np.squeeze(arr) for arr in np.split(data_pd.Id.str.extract('r(\\d+)_c(\\d+)').values.astype(int) - 1, 2, axis=-1)]\n",
        "    predictions = data_pd.Prediction.values\n",
        "    return users, movies, predictions\n",
        "\n",
        "train_users, train_movies, train_predictions = extract_users_items_predictions(train_pd)\n",
        "test_users, test_movies, test_predictions = extract_users_items_predictions(test_pd)\n",
        "all_users, all_movies, all_predictions = extract_users_items_predictions(data_pd)"
      ],
      "execution_count": null,
      "outputs": [
        {
          "output_type": "stream",
          "text": [
            "(1059256, 2)\n",
            "(117696, 2)\n"
          ],
          "name": "stdout"
        }
      ]
    },
    {
      "cell_type": "code",
      "metadata": {
        "colab": {
          "base_uri": "https://localhost:8080/"
        },
        "id": "gWksI4KdGvk5",
        "outputId": "38c9c266-4077-4587-e4dd-6824a7ed44ff"
      },
      "source": [
        "#@title Step 4: Use GPU if available\n",
        "\n",
        "device = torch.device('cuda' if torch.cuda.is_available() else 'cpu')\n",
        "print(f\"Device is {device}.\")"
      ],
      "execution_count": null,
      "outputs": [
        {
          "output_type": "stream",
          "text": [
            "Device is cuda.\n"
          ],
          "name": "stdout"
        }
      ]
    },
    {
      "cell_type": "code",
      "metadata": {
        "colab": {
          "base_uri": "https://localhost:8080/"
        },
        "id": "tMmAwYDcHP-t",
        "outputId": "51df2976-1d99-429a-cb50-e86eb9f2868b"
      },
      "source": [
        "#@title Step 5: Create data loaders\n",
        "batch_size = 64\n",
        "\n",
        "# datasets and data loaders for training/validation\n",
        "train_users_  = torch.tensor(train_users, device=device).int()\n",
        "train_movies_ = torch.tensor(train_movies, device=device).int()\n",
        "train_predictions_ = torch.tensor(train_predictions, device=device).float()\n",
        "test_users_  = torch.tensor(test_users, device=device).int()\n",
        "test_movies_ = torch.tensor(test_movies, device=device).int()\n",
        "test_predictions_ = torch.tensor(test_predictions, device=device).float()\n",
        "train_set = torch.utils.data.TensorDataset(train_users_, train_movies_, train_predictions_)\n",
        "test_set  = torch.utils.data.TensorDataset(test_users_ , test_movies_ , test_predictions_)\n",
        "train_loader = torch.utils.data.DataLoader(train_set, batch_size=batch_size, shuffle=True)\n",
        "test_loader  = torch.utils.data.DataLoader(test_set , batch_size=batch_size, shuffle=False)\n",
        "\n",
        "# datasets and data loaders for the whole task\n",
        "all_users_  = torch.tensor(all_users, device=device).int()\n",
        "all_movies_ = torch.tensor(all_movies, device=device).int()\n",
        "all_predictions_ = torch.tensor(all_predictions, device=device).float()\n",
        "all_set = torch.utils.data.TensorDataset(all_users_, all_movies_, all_predictions_)\n",
        "all_loader = torch.utils.data.DataLoader(all_set , batch_size=batch_size, shuffle=True)\n",
        "\n",
        "print(len(train_loader))\n",
        "print(len(test_loader))\n",
        "print(len(all_loader))"
      ],
      "execution_count": null,
      "outputs": [
        {
          "output_type": "stream",
          "text": [
            "16551\n",
            "1839\n",
            "18390\n"
          ],
          "name": "stdout"
        }
      ]
    },
    {
      "cell_type": "code",
      "metadata": {
        "id": "i5vad0gKHJth"
      },
      "source": [
        "#@title Step 6: scaled sigmoided SVD++ class\n",
        "\n",
        "class ssSVDpp(torch.nn.Module):\n",
        "  def __init__(self, number_of_users=number_of_users, number_of_movies=number_of_movies, rank=20, biased=True):\n",
        "    super().__init__()\n",
        "    self.biased = biased\n",
        "    self.rank = rank\n",
        "    self.user_matrix   = torch.nn.Embedding(number_of_users , self.rank)\n",
        "    self.movie_matrix  = torch.nn.Embedding(number_of_movies, self.rank)\n",
        "    self.user_biases   = torch.nn.Embedding(number_of_users , 1)\n",
        "    self.movie_biases  = torch.nn.Embedding(number_of_movies, 1)\n",
        "    self.global_biases = torch.nn.Embedding(1, 1)\n",
        "\n",
        "    # sigmoid activation\n",
        "    self.sigmoid       = torch.nn.Sigmoid()\n",
        "\n",
        "    # constants\n",
        "    self.five = torch.tensor(5.)\n",
        "    self.half = torch.tensor(.5)\n",
        "    self.zero = torch.tensor(0).to(device)\n",
        "    self.register_buffer('const_five', self.five)\n",
        "    self.register_buffer('const_half', self.half)\n",
        "    self.register_buffer('const_zero', self.zero)\n",
        "\n",
        "\n",
        "  def forward(self, user, movie):\n",
        "    pred  = (self.user_matrix(user) * self.movie_matrix(movie)).sum(1, keepdim=True)\n",
        "    if self.biased:\n",
        "      pred += self.user_biases(user) + self.movie_biases(movie) + self.global_biases(self.zero)\n",
        "    \n",
        "    pred = self.sigmoid(pred.squeeze()) * self.five + self.half\n",
        "    return pred.squeeze()"
      ],
      "execution_count": null,
      "outputs": []
    },
    {
      "cell_type": "code",
      "metadata": {
        "colab": {
          "base_uri": "https://localhost:8080/"
        },
        "id": "LqHjs9nNHS9R",
        "outputId": "882af435-6019-4380-df59-385a8db0141a"
      },
      "source": [
        "#@title Step 7: Instantiate model\n",
        "model = ssSVDpp(number_of_users, number_of_movies, rank=20, biased=True)\n",
        "\n",
        "# put the model in the device memory\n",
        "model = model.to(device)\n",
        "\n",
        "# count total number of parameters including non trainable\n",
        "total_params_count = sum(p.numel() for p in model.parameters())\n",
        "# count total trainable parameters\n",
        "trainable_params_count = sum(p.numel() for p in model.parameters() if p.requires_grad)\n",
        "\n",
        "print(f\"Total number of trainable parameters: {total_params_count}\")\n",
        "print(f\"Number of trainable parameters: {trainable_params_count}\")"
      ],
      "execution_count": null,
      "outputs": [
        {
          "output_type": "stream",
          "text": [
            "Total number of trainable parameters: 231001\n",
            "Number of trainable parameters: 231001\n"
          ],
          "name": "stdout"
        }
      ]
    },
    {
      "cell_type": "code",
      "metadata": {
        "colab": {
          "base_uri": "https://localhost:8080/"
        },
        "id": "OJHiTtjPHdE8",
        "outputId": "42f36832-18b4-4f49-a361-580ad0b7b80c"
      },
      "source": [
        "#@title Step 8: Embedding initialization\n",
        "\n",
        "def weights_init(m):\n",
        "    if isinstance(m, torch.nn.Embedding):\n",
        "        torch.nn.init.xavier_uniform_(m.weight.data)\n",
        "\n",
        "model.apply(weights_init)"
      ],
      "execution_count": null,
      "outputs": [
        {
          "output_type": "execute_result",
          "data": {
            "text/plain": [
              "ssSVDpp(\n",
              "  (user_matrix): Embedding(10000, 20)\n",
              "  (movie_matrix): Embedding(1000, 20)\n",
              "  (user_biases): Embedding(10000, 1)\n",
              "  (movie_biases): Embedding(1000, 1)\n",
              "  (global_biases): Embedding(1, 1)\n",
              "  (sigmoid): Sigmoid()\n",
              ")"
            ]
          },
          "metadata": {
            "tags": []
          },
          "execution_count": 38
        }
      ]
    },
    {
      "cell_type": "code",
      "metadata": {
        "id": "QWo8GsvsH4oc"
      },
      "source": [
        "#@title Step 9: Loss and optimizer\n",
        "\n",
        "loss_func = torch.nn.MSELoss()\n",
        "\n",
        "\n",
        "learning_rate  = 3e-4\n",
        "regularization = 5e-5\n",
        "optimizer_user  = torch.optim.Adam([model.user_matrix.weight , model.user_biases.weight], lr=learning_rate, weight_decay=regularization)\n",
        "optimizer_movie = torch.optim.Adam([model.movie_matrix.weight, model.movie_biases.weight, model.global_biases.weight], lr=learning_rate, weight_decay=regularization)\n",
        "optimizer_all   = torch.optim.Adam(model.parameters(), lr=learning_rate, weight_decay=regularization)\n"
      ],
      "execution_count": null,
      "outputs": []
    },
    {
      "cell_type": "code",
      "metadata": {
        "id": "hAJkmyFDIVIw"
      },
      "source": [
        "#@title Step 10: Training and validation\n",
        "\n",
        "# set seed to make result reproducible\n",
        "torch.manual_seed(0)\n",
        "\n",
        "# number of epochs\n",
        "n_epochs = 30\n",
        "\n",
        "# whether to train in ALS style (optimize U and V alternatively)\n",
        "# or in normal style\n",
        "ALS_train = False\n",
        "\n",
        "# whether to train with 90% data and validate with 10%,\n",
        "# or to train with 100% data\n",
        "validate = True\n",
        "\n",
        "if validate:\n",
        "    t_loader = train_loader\n",
        "else:\n",
        "    t_loader = all_loader\n",
        "  \n",
        "\n",
        "step = 0\n",
        "for epoch in range(n_epochs):\n",
        "    \n",
        "    # train model\n",
        "    model.train()\n",
        "    total_loss_train, total_accuracy_train = 0., 0.\n",
        "    for i, (user, movie, rating) in enumerate(t_loader):\n",
        "       \n",
        "        if ALS_train: \n",
        "            optimizer_user.zero_grad()  \n",
        "            output = model(user, movie) \n",
        "            loss = loss_func(output, rating) \n",
        "            loss.backward() \n",
        "            optimizer_user.step()\n",
        "\n",
        "            optimizer_movie.zero_grad()\n",
        "            output = model(user, movie)\n",
        "            loss = loss_func(output, rating)\n",
        "            loss.backward()\n",
        "            optimizer_movie.step()\n",
        "        else:\n",
        "            optimizer_all.zero_grad()   \n",
        "            output = model(user, movie) \n",
        "            loss = loss_func(output, rating) \n",
        "            loss.backward() \n",
        "            optimizer_all.step() \n",
        "\n",
        "        total_loss_train += loss.item()\n",
        "        \n",
        "        # measure accuracy\n",
        "        if validate:\n",
        "            total_accuracy_train += (output.round() == rating).float().sum()\n",
        "        \n",
        "        if step % 5000 == 0:\n",
        "            print('[Epoch %03d] - Step %04d> train loss: %.4f' % (epoch, step, loss.item()))\n",
        "        step += 1\n",
        "\n",
        "\n",
        "    # validate model\n",
        "    if validate:\n",
        "        model.eval()\n",
        "        total_loss_test, total_accuracy_test = 0., 0.\n",
        "        with torch.no_grad():\n",
        "            for i, (user, movie, rating) in enumerate(test_loader):\n",
        "                output = model(user, movie)\n",
        "                loss = loss_func(output, rating)\n",
        "\n",
        "                total_loss_test += loss.item()\n",
        "                total_accuracy_test += (output.round() == rating).float().sum()\n",
        "\n",
        "                if step % 5000 == 0:\n",
        "                    print('[Epoch %03d] - Step %04d> test  loss: %.4f' % (epoch, step, loss.item()))      \n",
        "\n",
        "\n",
        "\n",
        "    total_loss_train /= len(t_loader)\n",
        "    print('[Epoch %03d] - > avg train loss: %.4f' % (epoch, total_loss_train)) \n",
        "\n",
        "    if validate:\n",
        "        total_loss_test  /= len(test_loader) \n",
        "        total_accuracy_train /= (len(t_loader)*batch_size)\n",
        "        total_accuracy_test  /= (len(test_loader)*batch_size)    \n",
        "    \n",
        "        print('[Epoch %03d] - > avg test  loss: %.4f' % (epoch, total_loss_test))\n",
        "        print('[Epoch %03d] - > avg train accu: %.4f' % (epoch, total_accuracy_train)) \n",
        "        print('[Epoch %03d] - > avg test  accu: %.4f' % (epoch, total_accuracy_test)) "
      ],
      "execution_count": null,
      "outputs": []
    },
    {
      "cell_type": "code",
      "metadata": {
        "id": "sYCpzNNNR1W_"
      },
      "source": [
        "#@title Step 11: Generate predictions\n",
        "\n",
        "submission_users, submission_movies, submission_predictions = extract_users_items_predictions(submission_pd)\n",
        "print(submission_users)\n",
        "print(submission_movies)\n",
        "print(submission_predictions)\n",
        "\n",
        "submission_users_  = torch.tensor(submission_users, device=device).int()\n",
        "submission_movies_ = torch.tensor(submission_movies, device=device).int()\n",
        "\n",
        "model.eval()\n",
        "with torch.no_grad():\n",
        "    output = model(submission_users_, submission_movies_)\n",
        "\n",
        "output = output.to('cpu')\n",
        "print(output)"
      ],
      "execution_count": null,
      "outputs": []
    },
    {
      "cell_type": "code",
      "metadata": {
        "colab": {
          "base_uri": "https://localhost:8080/"
        },
        "id": "hNMXcv2YSAyR",
        "outputId": "d8ca6b99-334e-4f5e-b389-7fed70794403"
      },
      "source": [
        "#@title Step 12: Clamp output in range 1.0 ~ 5.0\n",
        "\n",
        "print(output.min())\n",
        "print(output.max())\n",
        "print()\n",
        "\n",
        "output = torch.clamp(output, min=1.0, max=5.0)\n",
        "print(output.min())\n",
        "print(output.max())\n",
        "print()"
      ],
      "execution_count": null,
      "outputs": [
        {
          "output_type": "stream",
          "text": [
            "tensor(1.)\n",
            "tensor(5.)\n",
            "\n",
            "tensor(1.)\n",
            "tensor(5.)\n",
            "\n"
          ],
          "name": "stdout"
        }
      ]
    },
    {
      "cell_type": "code",
      "metadata": {
        "colab": {
          "base_uri": "https://localhost:8080/",
          "height": 546
        },
        "id": "tQlzKfz8SJWL",
        "outputId": "ce2fa2e4-f92a-4561-ff7c-3e03a4e5cd45"
      },
      "source": [
        "#@title Step 13: Generate .csv submission file\n",
        "\n",
        "submission_users = (submission_users+1).astype(str)\n",
        "submission_users = np.char.add('r', submission_users)\n",
        "\n",
        "submission_movies = (submission_movies+1).astype(str)\n",
        "submission_movies = np.char.add('_c', submission_movies)\n",
        "\n",
        "submission_IDs = np.char.add(submission_users, submission_movies)\n",
        "\n",
        "my_submission = pd.DataFrame({'ID': submission_IDs, 'Prediction': output})\n",
        "\n",
        "print(my_submission.head(10))\n",
        "\n",
        "my_submission.to_csv(\"my_submission.csv\", index=False)\n",
        "\n",
        "# re-check\n",
        "wtf = pd.read_csv('my_submission.csv')\n",
        "wtf.head(10)"
      ],
      "execution_count": null,
      "outputs": [
        {
          "output_type": "stream",
          "text": [
            "        ID  Prediction\n",
            "0   r37_c1         3.0\n",
            "1   r73_c1         3.0\n",
            "2  r156_c1         4.0\n",
            "3  r160_c1         3.0\n",
            "4  r248_c1         3.0\n",
            "5  r256_c1         3.0\n",
            "6  r284_c1         3.0\n",
            "7  r400_c1         3.0\n",
            "8  r416_c1         4.0\n",
            "9  r456_c1         3.0\n"
          ],
          "name": "stdout"
        },
        {
          "output_type": "execute_result",
          "data": {
            "text/html": [
              "<div>\n",
              "<style scoped>\n",
              "    .dataframe tbody tr th:only-of-type {\n",
              "        vertical-align: middle;\n",
              "    }\n",
              "\n",
              "    .dataframe tbody tr th {\n",
              "        vertical-align: top;\n",
              "    }\n",
              "\n",
              "    .dataframe thead th {\n",
              "        text-align: right;\n",
              "    }\n",
              "</style>\n",
              "<table border=\"1\" class=\"dataframe\">\n",
              "  <thead>\n",
              "    <tr style=\"text-align: right;\">\n",
              "      <th></th>\n",
              "      <th>ID</th>\n",
              "      <th>Prediction</th>\n",
              "    </tr>\n",
              "  </thead>\n",
              "  <tbody>\n",
              "    <tr>\n",
              "      <th>0</th>\n",
              "      <td>r37_c1</td>\n",
              "      <td>3.0</td>\n",
              "    </tr>\n",
              "    <tr>\n",
              "      <th>1</th>\n",
              "      <td>r73_c1</td>\n",
              "      <td>3.0</td>\n",
              "    </tr>\n",
              "    <tr>\n",
              "      <th>2</th>\n",
              "      <td>r156_c1</td>\n",
              "      <td>4.0</td>\n",
              "    </tr>\n",
              "    <tr>\n",
              "      <th>3</th>\n",
              "      <td>r160_c1</td>\n",
              "      <td>3.0</td>\n",
              "    </tr>\n",
              "    <tr>\n",
              "      <th>4</th>\n",
              "      <td>r248_c1</td>\n",
              "      <td>3.0</td>\n",
              "    </tr>\n",
              "    <tr>\n",
              "      <th>5</th>\n",
              "      <td>r256_c1</td>\n",
              "      <td>3.0</td>\n",
              "    </tr>\n",
              "    <tr>\n",
              "      <th>6</th>\n",
              "      <td>r284_c1</td>\n",
              "      <td>3.0</td>\n",
              "    </tr>\n",
              "    <tr>\n",
              "      <th>7</th>\n",
              "      <td>r400_c1</td>\n",
              "      <td>3.0</td>\n",
              "    </tr>\n",
              "    <tr>\n",
              "      <th>8</th>\n",
              "      <td>r416_c1</td>\n",
              "      <td>4.0</td>\n",
              "    </tr>\n",
              "    <tr>\n",
              "      <th>9</th>\n",
              "      <td>r456_c1</td>\n",
              "      <td>3.0</td>\n",
              "    </tr>\n",
              "  </tbody>\n",
              "</table>\n",
              "</div>"
            ],
            "text/plain": [
              "        ID  Prediction\n",
              "0   r37_c1         3.0\n",
              "1   r73_c1         3.0\n",
              "2  r156_c1         4.0\n",
              "3  r160_c1         3.0\n",
              "4  r248_c1         3.0\n",
              "5  r256_c1         3.0\n",
              "6  r284_c1         3.0\n",
              "7  r400_c1         3.0\n",
              "8  r416_c1         4.0\n",
              "9  r456_c1         3.0"
            ]
          },
          "metadata": {
            "tags": []
          },
          "execution_count": 84
        }
      ]
    }
  ]
}